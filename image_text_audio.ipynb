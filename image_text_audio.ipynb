{
  "nbformat": 4,
  "nbformat_minor": 0,
  "metadata": {
    "colab": {
      "provenance": [],
      "authorship_tag": "ABX9TyNpRiRqcqJ0sCFLPHK4uYV3",
      "include_colab_link": true
    },
    "kernelspec": {
      "name": "python3",
      "display_name": "Python 3"
    },
    "language_info": {
      "name": "python"
    }
  },
  "cells": [
    {
      "cell_type": "markdown",
      "metadata": {
        "id": "view-in-github",
        "colab_type": "text"
      },
      "source": [
        "<a href=\"https://colab.research.google.com/github/231fa04248/image-text-audio/blob/main/image_text_audio.ipynb\" target=\"_parent\"><img src=\"https://colab.research.google.com/assets/colab-badge.svg\" alt=\"Open In Colab\"/></a>"
      ]
    },
    {
      "cell_type": "code",
      "execution_count": 1,
      "metadata": {
        "colab": {
          "base_uri": "https://localhost:8080/"
        },
        "id": "Fj_5_Kq-COwF",
        "outputId": "d37d5204-6cd8-4a61-9979-0d77f28aa3b5"
      },
      "outputs": [
        {
          "output_type": "stream",
          "name": "stdout",
          "text": [
            "Collecting gtts\n",
            "  Downloading gTTS-2.5.4-py3-none-any.whl.metadata (4.1 kB)\n",
            "Requirement already satisfied: requests<3,>=2.27 in /usr/local/lib/python3.11/dist-packages (from gtts) (2.32.3)\n",
            "Collecting click<8.2,>=7.1 (from gtts)\n",
            "  Downloading click-8.1.8-py3-none-any.whl.metadata (2.3 kB)\n",
            "Requirement already satisfied: charset-normalizer<4,>=2 in /usr/local/lib/python3.11/dist-packages (from requests<3,>=2.27->gtts) (3.4.2)\n",
            "Requirement already satisfied: idna<4,>=2.5 in /usr/local/lib/python3.11/dist-packages (from requests<3,>=2.27->gtts) (3.10)\n",
            "Requirement already satisfied: urllib3<3,>=1.21.1 in /usr/local/lib/python3.11/dist-packages (from requests<3,>=2.27->gtts) (2.4.0)\n",
            "Requirement already satisfied: certifi>=2017.4.17 in /usr/local/lib/python3.11/dist-packages (from requests<3,>=2.27->gtts) (2025.4.26)\n",
            "Downloading gTTS-2.5.4-py3-none-any.whl (29 kB)\n",
            "Downloading click-8.1.8-py3-none-any.whl (98 kB)\n",
            "\u001b[2K   \u001b[90m━━━━━━━━━━━━━━━━━━━━━━━━━━━━━━━━━━━━━━━━\u001b[0m \u001b[32m98.2/98.2 kB\u001b[0m \u001b[31m3.7 MB/s\u001b[0m eta \u001b[36m0:00:00\u001b[0m\n",
            "\u001b[?25hInstalling collected packages: click, gtts\n",
            "  Attempting uninstall: click\n",
            "    Found existing installation: click 8.2.0\n",
            "    Uninstalling click-8.2.0:\n",
            "      Successfully uninstalled click-8.2.0\n",
            "Successfully installed click-8.1.8 gtts-2.5.4\n"
          ]
        }
      ],
      "source": [
        "pip install gtts"
      ]
    },
    {
      "cell_type": "code",
      "source": [
        "from gtts import gTTS\n"
      ],
      "metadata": {
        "id": "_ZPZWT2cCSH7"
      },
      "execution_count": 3,
      "outputs": []
    },
    {
      "cell_type": "code",
      "source": [
        "text='hello '"
      ],
      "metadata": {
        "id": "BMOWQC8DCbkZ"
      },
      "execution_count": 4,
      "outputs": []
    },
    {
      "cell_type": "code",
      "source": [
        "lang='en'"
      ],
      "metadata": {
        "id": "x6NvHm1fCvh4"
      },
      "execution_count": 6,
      "outputs": []
    },
    {
      "cell_type": "code",
      "source": [
        "res=gTTS(text=text,lang=lang,slow=False)"
      ],
      "metadata": {
        "id": "Rrh1hwo6CyuY"
      },
      "execution_count": 7,
      "outputs": []
    },
    {
      "cell_type": "code",
      "source": [
        "res.save('audio.mp3')"
      ],
      "metadata": {
        "id": "wbBlR9oGDI-3"
      },
      "execution_count": 8,
      "outputs": []
    },
    {
      "cell_type": "code",
      "source": [
        "pip install SpeechRecognition\n"
      ],
      "metadata": {
        "colab": {
          "base_uri": "https://localhost:8080/"
        },
        "id": "Ws62oN-mDaj2",
        "outputId": "6540a634-e1ee-4e9f-cb48-239d7abc11c6"
      },
      "execution_count": 10,
      "outputs": [
        {
          "output_type": "stream",
          "name": "stdout",
          "text": [
            "Collecting SpeechRecognition\n",
            "  Downloading speechrecognition-3.14.3-py3-none-any.whl.metadata (30 kB)\n",
            "Requirement already satisfied: typing-extensions in /usr/local/lib/python3.11/dist-packages (from SpeechRecognition) (4.13.2)\n",
            "Downloading speechrecognition-3.14.3-py3-none-any.whl (32.9 MB)\n",
            "\u001b[2K   \u001b[90m━━━━━━━━━━━━━━━━━━━━━━━━━━━━━━━━━━━━━━━━\u001b[0m \u001b[32m32.9/32.9 MB\u001b[0m \u001b[31m59.5 MB/s\u001b[0m eta \u001b[36m0:00:00\u001b[0m\n",
            "\u001b[?25hInstalling collected packages: SpeechRecognition\n",
            "Successfully installed SpeechRecognition-3.14.3\n"
          ]
        }
      ]
    },
    {
      "cell_type": "code",
      "source": [
        "import speech_recognition as sr\n"
      ],
      "metadata": {
        "id": "epFqEk9ZDnv2"
      },
      "execution_count": 12,
      "outputs": []
    },
    {
      "cell_type": "code",
      "source": [
        "model=sr.Recognizer()"
      ],
      "metadata": {
        "id": "Or-PyPoZD85G"
      },
      "execution_count": 13,
      "outputs": []
    },
    {
      "cell_type": "code",
      "source": [
        "pip install pydub"
      ],
      "metadata": {
        "colab": {
          "base_uri": "https://localhost:8080/"
        },
        "id": "qKrf_SIRERZF",
        "outputId": "1ac3f593-3407-4833-d056-30f4be952b51"
      },
      "execution_count": 14,
      "outputs": [
        {
          "output_type": "stream",
          "name": "stdout",
          "text": [
            "Collecting pydub\n",
            "  Downloading pydub-0.25.1-py2.py3-none-any.whl.metadata (1.4 kB)\n",
            "Downloading pydub-0.25.1-py2.py3-none-any.whl (32 kB)\n",
            "Installing collected packages: pydub\n",
            "Successfully installed pydub-0.25.1\n"
          ]
        }
      ]
    },
    {
      "cell_type": "code",
      "source": [
        "mp3_file=r'/content/audio.mp3'\n",
        "from pydub import AudioSegment\n",
        "from pydub.playback import play\n",
        "audio=AudioSegment.from_mp3(mp3_file)\n",
        "audio.export(\"temp.wav\",format=\"wav\")"
      ],
      "metadata": {
        "colab": {
          "base_uri": "https://localhost:8080/"
        },
        "id": "tXZgioRXEVjk",
        "outputId": "535fcfdd-b390-4970-e651-e80cf8c7750d"
      },
      "execution_count": 16,
      "outputs": [
        {
          "output_type": "execute_result",
          "data": {
            "text/plain": [
              "<_io.BufferedRandom name='temp.wav'>"
            ]
          },
          "metadata": {},
          "execution_count": 16
        }
      ]
    },
    {
      "cell_type": "code",
      "source": [
        "audio_file=r'/content/temp.wav'\n",
        "with sr.AudioFile(audio_file) as source:\n",
        "\n",
        "  audio_data=model.record(source)\n",
        "  text=model.recognize_google(audio_data)\n",
        "text"
      ],
      "metadata": {
        "colab": {
          "base_uri": "https://localhost:8080/",
          "height": 35
        },
        "id": "Wc1QO6_UFFSz",
        "outputId": "f32398fa-d0f0-4c75-d756-3cc42261dad9"
      },
      "execution_count": 17,
      "outputs": [
        {
          "output_type": "execute_result",
          "data": {
            "text/plain": [
              "'hello'"
            ],
            "application/vnd.google.colaboratory.intrinsic+json": {
              "type": "string"
            }
          },
          "metadata": {},
          "execution_count": 17
        }
      ]
    },
    {
      "cell_type": "code",
      "source": [
        "pip install pytesseract pillow"
      ],
      "metadata": {
        "colab": {
          "base_uri": "https://localhost:8080/"
        },
        "id": "wSIDBlxLGMeR",
        "outputId": "7d52d3a5-e84e-4949-bbf6-35b987025c41"
      },
      "execution_count": 19,
      "outputs": [
        {
          "output_type": "stream",
          "name": "stdout",
          "text": [
            "Collecting pytesseract\n",
            "  Downloading pytesseract-0.3.13-py3-none-any.whl.metadata (11 kB)\n",
            "Requirement already satisfied: pillow in /usr/local/lib/python3.11/dist-packages (11.2.1)\n",
            "Requirement already satisfied: packaging>=21.3 in /usr/local/lib/python3.11/dist-packages (from pytesseract) (24.2)\n",
            "Downloading pytesseract-0.3.13-py3-none-any.whl (14 kB)\n",
            "Installing collected packages: pytesseract\n",
            "Successfully installed pytesseract-0.3.13\n"
          ]
        }
      ]
    },
    {
      "cell_type": "code",
      "source": [
        "from PIL import Image\n",
        "import pytesseract\n",
        "import matplotlib.pyplot as plt\n"
      ],
      "metadata": {
        "id": "Tjr6leSMHGQg"
      },
      "execution_count": 22,
      "outputs": []
    },
    {
      "cell_type": "code",
      "source": [
        "image_path=r'/content/nn'"
      ],
      "metadata": {
        "id": "U896PhXpHmJv"
      },
      "execution_count": 26,
      "outputs": []
    },
    {
      "cell_type": "code",
      "source": [
        "plt.imshow(Image.open(image_path))\n",
        "plt.axis('off')\n",
        "plt.show()"
      ],
      "metadata": {
        "colab": {
          "base_uri": "https://localhost:8080/",
          "height": 258
        },
        "id": "-Mlfg9nDIS_d",
        "outputId": "ce0a019f-f49a-4f2a-db29-7ca8c1c959c7"
      },
      "execution_count": 27,
      "outputs": [
        {
          "output_type": "display_data",
          "data": {
            "text/plain": [
              "<Figure size 640x480 with 1 Axes>"
            ],
            "image/png": "[encoded data removed]"
          },
          "metadata": {}
        }
      ]
    },
    {
      "cell_type": "code",
      "source": [
        "img=Image.open(image_path)\n",
        "text=pytesseract.image_to_string(img)\n",
        "print(\"extracted text from image\")\n",
        "print(text)"
      ],
      "metadata": {
        "colab": {
          "base_uri": "https://localhost:8080/"
        },
        "id": "tdYPQGXVIm4M",
        "outputId": "68929607-17b8-43a5-df8d-c54ac1f5735b"
      },
      "execution_count": 28,
      "outputs": [
        {
          "output_type": "stream",
          "name": "stdout",
          "text": [
            "extracted text from image\n",
            "This is the first line of\n",
            "this text example.\n",
            "\n",
            "This is the second line\n",
            "of the same text.\n",
            "\f\n"
          ]
        }
      ]
    },
    {
      "cell_type": "code",
      "source": [
        "from PIL import Image\n",
        "import pytesseract\n",
        "from gtts import gTTS\n",
        "image = Image.open('/content/pp')\n",
        "extracted_text = pytesseract.image_to_string(image)\n",
        "tts = gTTS(extracted_text, lang='en')\n",
        "tts.save('output.mp3')\n",
        "\n",
        "print(\"Audio saved as output.mp3\")\n"
      ],
      "metadata": {
        "colab": {
          "base_uri": "https://localhost:8080/"
        },
        "id": "hiUIJBkVJH47",
        "outputId": "7e005108-9710-49e0-9da6-e6584f71a9e8"
      },
      "execution_count": 33,
      "outputs": [
        {
          "output_type": "stream",
          "name": "stdout",
          "text": [
            "Audio saved as output.mp3\n"
          ]
        }
      ]
    },
    {
      "cell_type": "code",
      "source": [
        "from PIL import Image\n",
        "import pytesseract\n",
        "from gtts import gTTS\n",
        "import re\n",
        "\n",
        "# Step 1: Extract text from image\n",
        "image = Image.open('/content/nn')  # Replace with your image path\n",
        "extracted_text = pytesseract.image_to_string(image)\n",
        "\n",
        "# Step 2: Find arithmetic expressions using regex (supports numbers, +, -, *, /, parentheses)\n",
        "pattern = r'\\b\\d+(?:\\s*[-+*/]\\s*\\d+)+(?:\\s*[-+*/]\\s*\\d+)*\\b'\n",
        "\n",
        "matches = re.findall(pattern, extracted_text)\n",
        "results = []\n",
        "\n",
        "# Step 3: Evaluate the expressions\n",
        "for expr in matches:\n",
        "    expr = expr.strip()\n",
        "    try:\n",
        "        result = eval(expr)\n",
        "        results.append(f\"{expr} = {result}\")\n",
        "    except:\n",
        "        pass  # Skip malformed expressions\n",
        "\n",
        "# Step 4: Combine original text with results\n",
        "final_text = extracted_text.strip()\n",
        "if results:\n",
        "    final_text += \"\\n\\nResults of detected arithmetic operations:\\n\" + \"\\n\".join(results)\n",
        "tts = gTTS(final_text, lang='en')\n",
        "tts.save('output.mp3')\n",
        "\n",
        "print(\"Audio saved as output.mp3\")\n"
      ],
      "metadata": {
        "colab": {
          "base_uri": "https://localhost:8080/"
        },
        "id": "fM35Z-xDMKi1",
        "outputId": "c72690ea-3628-49df-ab40-074f2dad27ea"
      },
      "execution_count": 34,
      "outputs": [
        {
          "output_type": "stream",
          "name": "stdout",
          "text": [
            "Audio saved as output.mp3\n"
          ]
        }
      ]
    },
    {
      "cell_type": "code",
      "source": [
        "from PIL import Image\n",
        "import pytesseract\n",
        "from gtts import gTTS\n",
        "import re\n",
        "\n",
        "# Step 1: Extract text from image\n",
        "image = Image.open('/content/pp')  # Replace with your image path\n",
        "extracted_text = pytesseract.image_to_string(image)\n",
        "\n",
        "# Step 2: Find arithmetic expressions using regex\n",
        "pattern = r'\\b\\d+(?:\\s*[-+*/]\\s*\\d+)+(?:\\s*[-+*/]\\s*\\d+)*\\b'\n",
        "matches = re.findall(pattern, extracted_text)\n",
        "results = []\n",
        "\n",
        "# Step 3: Evaluate expressions\n",
        "for expr in matches:\n",
        "    expr = expr.strip()\n",
        "    try:\n",
        "        result = eval(expr)\n",
        "        results.append(f\"{expr} = {result}\")\n",
        "    except:\n",
        "        pass\n",
        "\n",
        "# Step 4: Combine text and results\n",
        "final_text = extracted_text.strip()\n",
        "if results:\n",
        "    final_text += \"\\n\\nResults of detected arithmetic operations:\\n\" + \"\\n\".join(results)\n",
        "\n",
        "# ✅ Step 5: Save text to .txt file\n",
        "with open(\"output.txt\", \"w\") as file:\n",
        "    file.write(final_text)\n",
        "\n",
        "# ✅ Also print the output\n",
        "print(\"Extracted Text with Results:\")\n",
        "print(final_text)\n",
        "tts = gTTS(final_text, lang='en')\n",
        "tts.save('output.mp3')\n",
        "print(\"Audio saved as output.mp3\")\n",
        "print(\"Text saved as output.txt\")\n"
      ],
      "metadata": {
        "colab": {
          "base_uri": "https://localhost:8080/"
        },
        "id": "kTyspAXMOo7g",
        "outputId": "2b6f83b3-7dd2-4404-a823-fe3169a2e123"
      },
      "execution_count": 35,
      "outputs": [
        {
          "output_type": "stream",
          "name": "stdout",
          "text": [
            "Extracted Text with Results:\n",
            "Simplify the expression:\n",
            "\n",
            "(7a* — 10a? — 32x) — (x* — 26a” — 3a + 17)\n",
            "\n",
            "Start Solving\n",
            "Audio saved as output.mp3\n",
            "Text saved as output.txt\n"
          ]
        }
      ]
    },
    {
      "cell_type": "code",
      "source": [
        "import speech_recognition as sr\n",
        "import re\n",
        "from pydub import AudioSegment\n",
        "from google.colab import files\n",
        "\n",
        "# Upload and convert MP3 to WAV\n",
        "def upload_and_convert():\n",
        "    uploaded = files.upload()  # Upload MP3\n",
        "    audio_file_mp3 = list(uploaded.keys())[0]\n",
        "    audio_file_wav = \"/content/Q.mp3\"\n",
        "    try:\n",
        "        audio = AudioSegment.from_mp3(audio_file_mp3)\n",
        "        audio.export(audio_file_wav, format=\"wav\")\n",
        "        print(f\"File converted to WAV successfully: {audio_file_wav}\")\n",
        "        return audio_file_wav\n",
        "    except Exception as e:\n",
        "        print(f\"Error converting MP3 to WAV: {e}\")\n",
        "        return None\n",
        "\n",
        "# Convert words like \"plus\" to \"+\", \"minus\" to \"-\", etc.\n",
        "def words_to_expression(text):\n",
        "    replacements = {\n",
        "        \"plus\": \"+\",\n",
        "        \"minus\": \"-\",\n",
        "        \"times\": \"*\",\n",
        "        \"multiplied by\": \"*\",\n",
        "        \"x\": \"*\",\n",
        "        \"divided by\": \"/\",\n",
        "        \"over\": \"/\"\n",
        "    }\n",
        "\n",
        "    # Replace words with symbols\n",
        "    for word, symbol in replacements.items():\n",
        "        text = text.lower().replace(word, symbol)\n",
        "\n",
        "    # Remove non-expression parts (optional, depends on accuracy)\n",
        "    text = re.findall(r\"[\\d+\\-*/.]+\", text.replace(\" \", \"\"))\n",
        "    return \"\".join(text)\n",
        "\n",
        "# Speech recognition and evaluation\n",
        "def recognize_and_solve(audio_file_wav):\n",
        "    recognizer = sr.Recognizer()\n",
        "\n",
        "    try:\n",
        "        with sr.AudioFile(audio_file_wav) as source:\n",
        "            audio_data = recognizer.record(source)\n",
        "        text = recognizer.recognize_google(audio_data)\n",
        "        print(f\"Transcribed Text: {text}\")\n",
        "\n",
        "        # Convert spoken text into valid math expression\n",
        "        expression = words_to_expression(text)\n",
        "        print(f\"Evaluated Expression: {expression}\")\n",
        "\n",
        "        # Evaluate using eval() safely\n",
        "        try:\n",
        "            result = eval(expression)\n",
        "            print(f\"The answer is: {result}\")\n",
        "        except Exception as eval_err:\n",
        "            print(f\"Error evaluating expression: {eval_err}\")\n",
        "\n",
        "    except sr.UnknownValueError:\n",
        "        print(\"Could not understand the audio.\")\n",
        "    except sr.RequestError as e:\n",
        "        print(f\"Speech recognition service error: {e}\")\n",
        "\n",
        "# Main control\n",
        "def main():\n",
        "    audio_file_wav = upload_and_convert()\n",
        "    if audio_file_wav:\n",
        "        recognize_and_solve(audio_file_wav)\n",
        "main()\n",
        "\n"
      ],
      "metadata": {
        "colab": {
          "base_uri": "https://localhost:8080/",
          "height": 142
        },
        "id": "lMtnMmJfPv5u",
        "outputId": "12c506c7-5bea-4d03-93c0-2ba8b7849782"
      },
      "execution_count": 36,
      "outputs": [
        {
          "output_type": "display_data",
          "data": {
            "text/plain": [
              "<IPython.core.display.HTML object>"
            ],
            "text/html": [
              "\n",
              "     <input type=\"file\" id=\"files-9073fa55-ea64-48ac-8173-186dbe839a5a\" name=\"files[]\" multiple disabled\n",
              "        style=\"border:none\" />\n",
              "     <output id=\"result-9073fa55-ea64-48ac-8173-186dbe839a5a\">\n",
              "      Upload widget is only available when the cell has been executed in the\n",
              "      current browser session. Please rerun this cell to enable.\n",
              "      </output>\n",
              "      <script>// Copyright 2017 Google LLC\n",
              "//\n",
              "// Licensed under the Apache License, Version 2.0 (the \"License\");\n",
              "// you may not use this file except in compliance with the License.\n",
              "// You may obtain a copy of the License at\n",
              "//\n",
              "//      http://www.apache.org/licenses/LICENSE-2.0\n",
              "//\n",
              "// Unless required by applicable law or agreed to in writing, software\n",
              "// distributed under the License is distributed on an \"AS IS\" BASIS,\n",
              "// WITHOUT WARRANTIES OR CONDITIONS OF ANY KIND, either express or implied.\n",
              "// See the License for the specific language governing permissions and\n",
              "// limitations under the License.\n",
              "\n",
              "/**\n",
              " * @fileoverview Helpers for google.colab Python module.\n",
              " */\n",
              "(function(scope) {\n",
              "function span(text, styleAttributes = {}) {\n",
              "  const element = document.createElement('span');\n",
              "  element.textContent = text;\n",
              "  for (const key of Object.keys(styleAttributes)) {\n",
              "    element.style[key] = styleAttributes[key];\n",
              "  }\n",
              "  return element;\n",
              "}\n",
              "\n",
              "// Max number of bytes which will be uploaded at a time.\n",
              "const MAX_PAYLOAD_SIZE = 100 * 1024;\n",
              "\n",
              "function _uploadFiles(inputId, outputId) {\n",
              "  const steps = uploadFilesStep(inputId, outputId);\n",
              "  const outputElement = document.getElementById(outputId);\n",
              "  // Cache steps on the outputElement to make it available for the next call\n",
              "  // to uploadFilesContinue from Python.\n",
              "  outputElement.steps = steps;\n",
              "\n",
              "  return _uploadFilesContinue(outputId);\n",
              "}\n",
              "\n",
              "// This is roughly an async generator (not supported in the browser yet),\n",
              "// where there are multiple asynchronous steps and the Python side is going\n",
              "// to poll for completion of each step.\n",
              "// This uses a Promise to block the python side on completion of each step,\n",
              "// then passes the result of the previous step as the input to the next step.\n",
              "function _uploadFilesContinue(outputId) {\n",
              "  const outputElement = document.getElementById(outputId);\n",
              "  const steps = outputElement.steps;\n",
              "\n",
              "  const next = steps.next(outputElement.lastPromiseValue);\n",
              "  return Promise.resolve(next.value.promise).then((value) => {\n",
              "    // Cache the last promise value to make it available to the next\n",
              "    // step of the generator.\n",
              "    outputElement.lastPromiseValue = value;\n",
              "    return next.value.response;\n",
              "  });\n",
              "}\n",
              "\n",
              "/**\n",
              " * Generator function which is called between each async step of the upload\n",
              " * process.\n",
              " * @param {string} inputId Element ID of the input file picker element.\n",
              " * @param {string} outputId Element ID of the output display.\n",
              " * @return {!Iterable<!Object>} Iterable of next steps.\n",
              " */\n",
              "function* uploadFilesStep(inputId, outputId) {\n",
              "  const inputElement = document.getElementById(inputId);\n",
              "  inputElement.disabled = false;\n",
              "\n",
              "  const outputElement = document.getElementById(outputId);\n",
              "  outputElement.innerHTML = '';\n",
              "\n",
              "  const pickedPromise = new Promise((resolve) => {\n",
              "    inputElement.addEventListener('change', (e) => {\n",
              "      resolve(e.target.files);\n",
              "    });\n",
              "  });\n",
              "\n",
              "  const cancel = document.createElement('button');\n",
              "  inputElement.parentElement.appendChild(cancel);\n",
              "  cancel.textContent = 'Cancel upload';\n",
              "  const cancelPromise = new Promise((resolve) => {\n",
              "    cancel.onclick = () => {\n",
              "      resolve(null);\n",
              "    };\n",
              "  });\n",
              "\n",
              "  // Wait for the user to pick the files.\n",
              "  const files = yield {\n",
              "    promise: Promise.race([pickedPromise, cancelPromise]),\n",
              "    response: {\n",
              "      action: 'starting',\n",
              "    }\n",
              "  };\n",
              "\n",
              "  cancel.remove();\n",
              "\n",
              "  // Disable the input element since further picks are not allowed.\n",
              "  inputElement.disabled = true;\n",
              "\n",
              "  if (!files) {\n",
              "    return {\n",
              "      response: {\n",
              "        action: 'complete',\n",
              "      }\n",
              "    };\n",
              "  }\n",
              "\n",
              "  for (const file of files) {\n",
              "    const li = document.createElement('li');\n",
              "    li.append(span(file.name, {fontWeight: 'bold'}));\n",
              "    li.append(span(\n",
              "        `(${file.type || 'n/a'}) - ${file.size} bytes, ` +\n",
              "        `last modified: ${\n",
              "            file.lastModifiedDate ? file.lastModifiedDate.toLocaleDateString() :\n",
              "                                    'n/a'} - `));\n",
              "    const percent = span('0% done');\n",
              "    li.appendChild(percent);\n",
              "\n",
              "    outputElement.appendChild(li);\n",
              "\n",
              "    const fileDataPromise = new Promise((resolve) => {\n",
              "      const reader = new FileReader();\n",
              "      reader.onload = (e) => {\n",
              "        resolve(e.target.result);\n",
              "      };\n",
              "      reader.readAsArrayBuffer(file);\n",
              "    });\n",
              "    // Wait for the data to be ready.\n",
              "    let fileData = yield {\n",
              "      promise: fileDataPromise,\n",
              "      response: {\n",
              "        action: 'continue',\n",
              "      }\n",
              "    };\n",
              "\n",
              "    // Use a chunked sending to avoid message size limits. See b/62115660.\n",
              "    let position = 0;\n",
              "    do {\n",
              "      const length = Math.min(fileData.byteLength - position, MAX_PAYLOAD_SIZE);\n",
              "      const chunk = new Uint8Array(fileData, position, length);\n",
              "      position += length;\n",
              "\n",
              "      const base64 = btoa(String.fromCharCode.apply(null, chunk));\n",
              "      yield {\n",
              "        response: {\n",
              "          action: 'append',\n",
              "          file: file.name,\n",
              "          data: base64,\n",
              "        },\n",
              "      };\n",
              "\n",
              "      let percentDone = fileData.byteLength === 0 ?\n",
              "          100 :\n",
              "          Math.round((position / fileData.byteLength) * 100);\n",
              "      percent.textContent = `${percentDone}% done`;\n",
              "\n",
              "    } while (position < fileData.byteLength);\n",
              "  }\n",
              "\n",
              "  // All done.\n",
              "  yield {\n",
              "    response: {\n",
              "      action: 'complete',\n",
              "    }\n",
              "  };\n",
              "}\n",
              "\n",
              "scope.google = scope.google || {};\n",
              "scope.google.colab = scope.google.colab || {};\n",
              "scope.google.colab._files = {\n",
              "  _uploadFiles,\n",
              "  _uploadFilesContinue,\n",
              "};\n",
              "})(self);\n",
              "</script> "
            ]
          },
          "metadata": {}
        },
        {
          "output_type": "stream",
          "name": "stdout",
          "text": [
            "Saving Q.mp3 to Q (1).mp3\n",
            "File converted to WAV successfully: /content/Q.mp3\n",
            "Transcribed Text: 5 + 5 is what\n",
            "Evaluated Expression: 5+5\n",
            "The answer is: 10\n"
          ]
        }
      ]
    },
    {
      "cell_type": "code",
      "source": [
        "!pip install gtts\n",
        "\n",
        "from gtts import gTTS\n",
        "\n",
        "text =\"5+5\"\n",
        "\n",
        "lang =\"en\"\n",
        "res = gTTS(text=text,lang=lang,slow=False)\n",
        "\n",
        "res.save(\"ta.mp3\")\n",
        "\n",
        "# Step 1: Install required libraries (run in a notebook or script)\n",
        "!pip install SpeechRecognition pydub gTTS\n",
        "\n",
        "\n",
        "# Step 2: Import libraries\n",
        "import speech_recognition as sr\n",
        "from pydub import AudioSegment\n",
        "from gtts import gTTS\n",
        "import re\n",
        "\n",
        "\n",
        "# Step 3: Convert MP3 to WAV (SpeechRecognition needs WAV)\n",
        "mp3_file = r'/content/ta.mp3'\n",
        "audio = AudioSegment.from_file(mp3_file)\n",
        "audio.export(\"temp.wav\", format=\"wav\")\n",
        "\n",
        "\n",
        "# Step 4: Transcribe audio\n",
        "recognizer = sr.Recognizer()\n",
        "with sr.AudioFile(\"temp.wav\") as source:\n",
        "    audio_data = recognizer.record(source)\n",
        "    text = recognizer.recognize_google(audio_data)\n",
        "\n",
        "print(\"Recognized text:\", text)\n",
        "\n",
        "\n",
        "# Step 5: Detect and evaluate math expression like \"5 + 5\"\n",
        "expression_match = re.search(r'(\\d+)\\s*[\\+\\-\\*/]\\s*(\\d+)', text)\n",
        "if expression_match:\n",
        "    expression = expression_match.group(0)\n",
        "    try:\n",
        "        result = eval(expression)\n",
        "        answer_text = f\"The answer is {result}\"\n",
        "    except Exception as e:\n",
        "        answer_text = \"Sorry, I could not evaluate that expression\"\n",
        "else:\n",
        "    answer_text = \"No valid math expression found\"\n",
        "\n",
        "print(\"Answer:\", answer_text)\n",
        "\n",
        "\n",
        "# Step 6: Convert the answer to speech and save it\n",
        "tts = gTTS(answer_text)\n",
        "tts.save(\"/content/answer.mp3\")\n"
      ],
      "metadata": {
        "colab": {
          "base_uri": "https://localhost:8080/"
        },
        "id": "J9V1JhvLaMcY",
        "outputId": "01eaee04-967f-4f89-9df4-f51ba83dd3cc"
      },
      "execution_count": 37,
      "outputs": [
        {
          "output_type": "stream",
          "name": "stdout",
          "text": [
            "Requirement already satisfied: gtts in /usr/local/lib/python3.11/dist-packages (2.5.4)\n",
            "Requirement already satisfied: requests<3,>=2.27 in /usr/local/lib/python3.11/dist-packages (from gtts) (2.32.3)\n",
            "Requirement already satisfied: click<8.2,>=7.1 in /usr/local/lib/python3.11/dist-packages (from gtts) (8.1.8)\n",
            "Requirement already satisfied: charset-normalizer<4,>=2 in /usr/local/lib/python3.11/dist-packages (from requests<3,>=2.27->gtts) (3.4.2)\n",
            "Requirement already satisfied: idna<4,>=2.5 in /usr/local/lib/python3.11/dist-packages (from requests<3,>=2.27->gtts) (3.10)\n",
            "Requirement already satisfied: urllib3<3,>=1.21.1 in /usr/local/lib/python3.11/dist-packages (from requests<3,>=2.27->gtts) (2.4.0)\n",
            "Requirement already satisfied: certifi>=2017.4.17 in /usr/local/lib/python3.11/dist-packages (from requests<3,>=2.27->gtts) (2025.4.26)\n",
            "Requirement already satisfied: SpeechRecognition in /usr/local/lib/python3.11/dist-packages (3.14.3)\n",
            "Requirement already satisfied: pydub in /usr/local/lib/python3.11/dist-packages (0.25.1)\n",
            "Requirement already satisfied: gTTS in /usr/local/lib/python3.11/dist-packages (2.5.4)\n",
            "Requirement already satisfied: typing-extensions in /usr/local/lib/python3.11/dist-packages (from SpeechRecognition) (4.13.2)\n",
            "Requirement already satisfied: requests<3,>=2.27 in /usr/local/lib/python3.11/dist-packages (from gTTS) (2.32.3)\n",
            "Requirement already satisfied: click<8.2,>=7.1 in /usr/local/lib/python3.11/dist-packages (from gTTS) (8.1.8)\n",
            "Requirement already satisfied: charset-normalizer<4,>=2 in /usr/local/lib/python3.11/dist-packages (from requests<3,>=2.27->gTTS) (3.4.2)\n",
            "Requirement already satisfied: idna<4,>=2.5 in /usr/local/lib/python3.11/dist-packages (from requests<3,>=2.27->gTTS) (3.10)\n",
            "Requirement already satisfied: urllib3<3,>=1.21.1 in /usr/local/lib/python3.11/dist-packages (from requests<3,>=2.27->gTTS) (2.4.0)\n",
            "Requirement already satisfied: certifi>=2017.4.17 in /usr/local/lib/python3.11/dist-packages (from requests<3,>=2.27->gTTS) (2025.4.26)\n",
            "Recognized text: 5 + 5\n",
            "Answer: The answer is 10\n"
          ]
        }
      ]
    }
  ]
}